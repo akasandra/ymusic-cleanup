{
 "cells": [
  {
   "cell_type": "code",
   "execution_count": null,
   "id": "d0c56dff",
   "metadata": {},
   "outputs": [],
   "source": [
    "import logging\n",
    "from ymusic_liketable import Worker\n",
    "from table_xlsx import XlsxFileDriver\n",
    "\n",
    "logging.basicConfig(\n",
    "    level=logging.WARN,\n",
    "    format='%(asctime)s - %(name)s - %(levelname)s - %(message)s'\n",
    ")"
   ]
  },
  {
   "cell_type": "code",
   "execution_count": null,
   "id": "e434810c",
   "metadata": {},
   "outputs": [],
   "source": [
    "table_driver = XlsxFileDriver(filename='./changes.xlsx')\n",
    "\n",
    "w = Worker(token=open('token.txt').read().strip('\\n'), language='en')"
   ]
  },
  {
   "cell_type": "code",
   "execution_count": null,
   "id": "171d872f",
   "metadata": {},
   "outputs": [],
   "source": [
    "try:\n",
    "    table_data = table_driver.bulk_read()\n",
    "except FileNotFoundError:\n",
    "    print(\"File not found, starting with empty table_data list.\")\n",
    "    table_data = []"
   ]
  },
  {
   "cell_type": "code",
   "execution_count": null,
   "id": "81910fef",
   "metadata": {},
   "outputs": [],
   "source": [
    "online_data = w.get_online_data()"
   ]
  },
  {
   "cell_type": "code",
   "execution_count": null,
   "id": "c7f27f5f",
   "metadata": {},
   "outputs": [],
   "source": [
    "table_data = w.get_updated_table(online_data, table_data)"
   ]
  },
  {
   "cell_type": "code",
   "execution_count": null,
   "id": "8c2675f2",
   "metadata": {},
   "outputs": [],
   "source": [
    "w.set_ymusic_likes(online_data, table_data)"
   ]
  },
  {
   "cell_type": "code",
   "execution_count": null,
   "id": "5cfe39fc",
   "metadata": {},
   "outputs": [],
   "source": [
    "table_driver.bulk_write(table_data)"
   ]
  }
 ],
 "metadata": {
  "kernelspec": {
   "display_name": "poetry-ymusic-cleanup",
   "language": "python",
   "name": "poetry-ymusic-cleanup"
  }
 },
 "nbformat": 4,
 "nbformat_minor": 5
}
