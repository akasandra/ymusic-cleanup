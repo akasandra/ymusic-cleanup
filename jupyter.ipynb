{
 "cells": [
  {
   "cell_type": "code",
   "execution_count": null,
   "id": "d0c56dff",
   "metadata": {},
   "outputs": [],
   "source": [
    "from ymusic_cleanup import client, get_online_data, load_changes, update_changes, dump_changes, set_likes_changes"
   ]
  },
  {
   "cell_type": "code",
   "execution_count": null,
   "id": "e434810c",
   "metadata": {},
   "outputs": [],
   "source": [
    "try:\n",
    "    changes = load_changes()\n",
    "except FileNotFoundError:\n",
    "    print(\"File not found, starting with empty changes list.\")\n",
    "    changes = []"
   ]
  },
  {
   "cell_type": "code",
   "execution_count": null,
   "id": "81910fef",
   "metadata": {},
   "outputs": [],
   "source": [
    "online_data = get_online_data()"
   ]
  },
  {
   "cell_type": "code",
   "execution_count": null,
   "id": "c7f27f5f",
   "metadata": {},
   "outputs": [],
   "source": [
    "changes = update_changes(online_data, changes)"
   ]
  },
  {
   "cell_type": "code",
   "execution_count": null,
   "id": "8c2675f2",
   "metadata": {},
   "outputs": [],
   "source": [
    "dump_changes(changes)"
   ]
  },
  {
   "cell_type": "code",
   "execution_count": null,
   "id": "5cfe39fc",
   "metadata": {},
   "outputs": [],
   "source": [
    "set_likes_changes(online_data, changes)"
   ]
  }
 ],
 "metadata": {
  "kernelspec": {
   "display_name": "poetry-ymusic-cleanup",
   "language": "python",
   "name": "poetry-ymusic-cleanup"
  },
  "language_info": {
   "codemirror_mode": {
    "name": "ipython",
    "version": 3
   },
   "file_extension": ".py",
   "mimetype": "text/x-python",
   "name": "python",
   "nbconvert_exporter": "python",
   "pygments_lexer": "ipython3",
   "version": "3.13.5"
  }
 },
 "nbformat": 4,
 "nbformat_minor": 5
}
