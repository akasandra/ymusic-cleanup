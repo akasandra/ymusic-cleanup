{
 "cells": [
  {
   "cell_type": "code",
   "execution_count": 1,
   "id": "d0c56dff",
   "metadata": {},
   "outputs": [],
   "source": [
    "import logging\n",
    "from ymusic_liketable import Worker\n",
    "from table_xlsx import XlsxFileDriver\n",
    "\n",
    "logging.basicConfig(\n",
    "    level=logging.WARN,\n",
    "    format='%(asctime)s - %(name)s - %(levelname)s - %(message)s'\n",
    ")"
   ]
  },
  {
   "cell_type": "code",
   "execution_count": 2,
   "id": "e434810c",
   "metadata": {},
   "outputs": [],
   "source": [
    "table_driver = XlsxFileDriver(filename='./changes.xlsx')\n",
    "\n",
    "w = Worker(token=open('token.txt').read().strip('\\n'), language='en')"
   ]
  },
  {
   "cell_type": "code",
   "execution_count": 3,
   "id": "171d872f",
   "metadata": {},
   "outputs": [],
   "source": [
    "try:\n",
    "    table_data = table_driver.bulk_read()\n",
    "except FileNotFoundError:\n",
    "    print(\"File not found, starting with empty table_data list.\")\n",
    "    table_data = []"
   ]
  },
  {
   "cell_type": "code",
   "execution_count": 4,
   "id": "81910fef",
   "metadata": {},
   "outputs": [
    {
     "name": "stdout",
     "output_type": "stream",
     "text": [
      "API working...\n",
      "Online Likes: artists 104 albums 5 tracks 212\n"
     ]
    }
   ],
   "source": [
    "online_data = w.get_online_data()"
   ]
  },
  {
   "cell_type": "code",
   "execution_count": 5,
   "id": "c7f27f5f",
   "metadata": {},
   "outputs": [
    {
     "name": "stdout",
     "output_type": "stream",
     "text": [
      "New likes add/set in table:\n",
      "\tartists 0 albums 0 tracks 0\n",
      "Fetching metadata for new items\n",
      "New metadata: artists 0 albums 0 tracks 0\n"
     ]
    }
   ],
   "source": [
    "table_data = w.get_updated_table(online_data, table_data)"
   ]
  },
  {
   "cell_type": "code",
   "execution_count": 6,
   "id": "8c2675f2",
   "metadata": {},
   "outputs": [
    {
     "name": "stdout",
     "output_type": "stream",
     "text": [
      "Summary of likes to change online:\n",
      "\tTotal on  321\n",
      "\tTotal off 0\n",
      "\tRemove likes: artists 0 albums 0 tracks 0\n",
      "\tAdd likes:    artists 0 albums 0 tracks 0\n",
      "API working...\n",
      "This indicates no error!\n"
     ]
    }
   ],
   "source": [
    "w.set_ymusic_likes(online_data, table_data)"
   ]
  },
  {
   "cell_type": "code",
   "execution_count": 7,
   "id": "5cfe39fc",
   "metadata": {},
   "outputs": [
    {
     "name": "stdout",
     "output_type": "stream",
     "text": [
      "Table file saved\n"
     ]
    }
   ],
   "source": [
    "table_driver.bulk_write(table_data)\n",
    "\n",
    "print('Table file saved')"
   ]
  }
 ],
 "metadata": {
  "kernelspec": {
   "display_name": "poetry-ymusic-cleanup",
   "language": "python",
   "name": "poetry-ymusic-cleanup"
  }
 },
 "nbformat": 4,
 "nbformat_minor": 5
}
