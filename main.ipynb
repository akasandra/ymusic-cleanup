{
 "cells": [
  {
   "cell_type": "code",
   "execution_count": 1,
   "id": "01d12eaa",
   "metadata": {},
   "outputs": [],
   "source": [
    "import main\n"
   ]
  },
  {
   "cell_type": "code",
   "execution_count": 2,
   "id": "d0c56dff",
   "metadata": {},
   "outputs": [],
   "source": [
    "from main import client, get_online_data, load_changes, update_changes, dump_changes, set_likes_changes"
   ]
  },
  {
   "cell_type": "code",
   "execution_count": 3,
   "id": "e434810c",
   "metadata": {},
   "outputs": [],
   "source": [
    "# Update changes file with todo information (if needed)\n",
    "try:\n",
    "    changes = load_changes()\n",
    "except FileNotFoundError:\n",
    "    print(\"File not found, starting with empty changes list.\")\n",
    "    changes = []"
   ]
  },
  {
   "cell_type": "code",
   "execution_count": 4,
   "id": "81910fef",
   "metadata": {},
   "outputs": [
    {
     "name": "stdout",
     "output_type": "stream",
     "text": [
      "Number of liked tracks: 2521\n",
      "Number of liked albums: 31\n",
      "Number of liked artists: 222\n"
     ]
    }
   ],
   "source": [
    "online_data = get_online_data()"
   ]
  },
  {
   "cell_type": "code",
   "execution_count": 5,
   "id": "c7f27f5f",
   "metadata": {},
   "outputs": [
    {
     "name": "stdout",
     "output_type": "stream",
     "text": [
      "New tracks: 0\n",
      "Need extra information for 31 albums\n"
     ]
    }
   ],
   "source": [
    "changes = update_changes(online_data, changes)"
   ]
  },
  {
   "cell_type": "code",
   "execution_count": 6,
   "id": "5cfe39fc",
   "metadata": {},
   "outputs": [
    {
     "name": "stdout",
     "output_type": "stream",
     "text": [
      "Like on  2835\n",
      "Like off 7\n",
      "Summary of likes to change online:\n",
      "Remove likes: artists 1 albums 0 tracks 0\n",
      "Add likes:    artists 0 albums 0 tracks 0\n",
      "Indicates no error. Don't forget to update online_data to sync the changes\n"
     ]
    }
   ],
   "source": [
    "set_likes_changes(online_data, changes)"
   ]
  },
  {
   "cell_type": "code",
   "execution_count": 7,
   "id": "edcafbff",
   "metadata": {},
   "outputs": [
    {
     "name": "stdout",
     "output_type": "stream",
     "text": [
      "Number of liked tracks: 2521\n",
      "Number of liked albums: 31\n",
      "Number of liked artists: 221\n"
     ]
    }
   ],
   "source": [
    "online_data = get_online_data()"
   ]
  },
  {
   "cell_type": "code",
   "execution_count": 8,
   "id": "8c2675f2",
   "metadata": {},
   "outputs": [],
   "source": [
    "dump_changes(changes)"
   ]
  }
 ],
 "metadata": {
  "kernelspec": {
   "display_name": "poetry-ymusic-cleanup",
   "language": "python",
   "name": "poetry-ymusic-cleanup"
  }
 },
 "nbformat": 4,
 "nbformat_minor": 5
}
