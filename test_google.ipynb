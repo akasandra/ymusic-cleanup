{
 "cells": [
  {
   "cell_type": "code",
   "execution_count": null,
   "id": "d0c56dff",
   "metadata": {},
   "outputs": [],
   "source": [
    "import logging\n",
    "from copy import deepcopy\n",
    "from ymusic_liketable import Worker\n",
    "from table_helper import TableHelper\n",
    "from driver_google import GoogleSpreadsheetDriver\n",
    "from google_helper import GoogleHelper\n",
    "\n",
    "logging.basicConfig(\n",
    "    level=logging.INFO,\n",
    "    format='%(asctime)s - %(name)s - %(levelname)s - %(message)s'\n",
    ")"
   ]
  },
  {
   "cell_type": "code",
   "execution_count": null,
   "id": "2be73fca",
   "metadata": {},
   "outputs": [],
   "source": [
    "# IAM credentials file from Google Console (Service account or OAuth2)\n",
    "google_creds_file = 'creds.json'\n",
    "\n",
    "# Replace with your link to google sheets document\n",
    "# Must be shared with service account client_email\n",
    "table_url = 'https://docs.google.com/spreadsheets/d/1nLZUKSeqYuskrF5mHOer_BiCWjh84JHHb0BFq53Z2lw/edit?gid=0#gid=0'\n",
    "\n",
    "# Assume Google Credetials are for Service Acount\n",
    "# For OAuth2, set client_id and client_secret\n",
    "gc = GoogleHelper.client_json_creds(filename=google_creds_file, client_id=None, client_secret=None)\n",
    "\n",
    "# For OAuth2 mode with Google APIs,\n",
    "# creds.json may need to be updated if refresh token has changed during lifetime.\n",
    "cb = GoogleHelper.make_file_update_function(google_creds_file)\n",
    "\n",
    "table_driver = GoogleSpreadsheetDriver(gc=gc, spreadsheet_url=table_url, refreshtoken_callback=cb)"
   ]
  },
  {
   "cell_type": "code",
   "execution_count": null,
   "id": "ed292b3e",
   "metadata": {},
   "outputs": [],
   "source": [
    "yandex_token = open('token.txt').read().strip('\\n')\n",
    "\n",
    "w = Worker(token=yandex_token, language='en')"
   ]
  },
  {
   "cell_type": "code",
   "execution_count": null,
   "id": "4ee7e94d",
   "metadata": {},
   "outputs": [],
   "source": [
    "table_data = table_driver.bulk_read(no_metadata=True)\n",
    "\n",
    "old_data = deepcopy(table_data)"
   ]
  },
  {
   "cell_type": "code",
   "execution_count": null,
   "id": "8ca27bf7",
   "metadata": {},
   "outputs": [],
   "source": [
    "online_data = w.get_online_data()"
   ]
  },
  {
   "cell_type": "code",
   "execution_count": null,
   "id": "108a6a64",
   "metadata": {},
   "outputs": [],
   "source": [
    "table_data = w.get_updated_table(online_data, table_data)"
   ]
  },
  {
   "cell_type": "code",
   "execution_count": null,
   "id": "b0bc6177",
   "metadata": {},
   "outputs": [],
   "source": [
    "w.set_ymusic_likes(online_data, table_data)"
   ]
  },
  {
   "cell_type": "code",
   "execution_count": null,
   "id": "2e7273eb",
   "metadata": {},
   "outputs": [],
   "source": [
    "if old_data:\n",
    "    table_driver.bulk_update(table_data, cached_old_data=old_data)\n",
    "    print('Google sheets data updated')"
   ]
  },
  {
   "cell_type": "code",
   "execution_count": null,
   "id": "d4d90e82",
   "metadata": {},
   "outputs": [],
   "source": [
    "# Alternative: re-create file, with sorting\n",
    "if not old_data:\n",
    "    table_data = TableHelper.sort(table_data)\n",
    "    table_driver.bulk_write(table_data)\n",
    "    old_data = table_data\n",
    "\n",
    "    print('Google sheets data was re/created with all current likes.')"
   ]
  }
 ],
 "metadata": {
  "kernelspec": {
   "display_name": "poetry-ymusic_liketable",
   "language": "python",
   "name": "poetry-ymusic_liketable"
  },
  "language_info": {
   "codemirror_mode": {
    "name": "ipython",
    "version": 3
   },
   "file_extension": ".py",
   "mimetype": "text/x-python",
   "name": "python",
   "nbconvert_exporter": "python",
   "pygments_lexer": "ipython3",
   "version": "3.13.5"
  }
 },
 "nbformat": 4,
 "nbformat_minor": 5
}
