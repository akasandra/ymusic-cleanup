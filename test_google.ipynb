{
 "cells": [
  {
   "cell_type": "code",
   "execution_count": 1,
   "id": "d0c56dff",
   "metadata": {},
   "outputs": [],
   "source": [
    "import logging\n",
    "from copy import deepcopy\n",
    "from liketable import Liketable\n",
    "from table_helper import TableHelper\n",
    "from source_google import GoogleSheetSource\n",
    "from google_helper import GoogleHelper\n",
    "\n",
    "logging.basicConfig(\n",
    "    level=logging.INFO,\n",
    "    format='%(asctime)s - %(name)s - %(levelname)s - %(message)s'\n",
    ")"
   ]
  },
  {
   "cell_type": "code",
   "execution_count": 2,
   "id": "2be73fca",
   "metadata": {},
   "outputs": [],
   "source": [
    "# IAM credentials file from Google Console (Service account or OAuth2)\n",
    "google_creds_file = 'creds.json'\n",
    "\n",
    "# Replace with your link to google sheets document\n",
    "# Must be shared with service account client_email\n",
    "table_url = 'https://docs.google.com/spreadsheets/d/1nLZUKSeqYuskrF5mHOer_BiCWjh84JHHb0BFq53Z2lw/edit?gid=0#gid=0'\n",
    "\n",
    "# Assume Google Credetials are for Service Acount\n",
    "# For OAuth2, set client_id and client_secret\n",
    "gc = GoogleHelper.client_json_creds(filename=google_creds_file, client_id=None, client_secret=None)\n",
    "\n",
    "# For OAuth2 mode with Google APIs,\n",
    "# creds.json may need to be updated if refresh token has changed during lifetime.\n",
    "cb = GoogleHelper.make_file_update_function(google_creds_file)\n",
    "\n",
    "source = GoogleSheetSource(gc=gc, spreadsheet_url=table_url, refreshtoken_callback=cb)"
   ]
  },
  {
   "cell_type": "code",
   "execution_count": 3,
   "id": "ed292b3e",
   "metadata": {},
   "outputs": [],
   "source": [
    "yandex_token = open('token.txt').read().strip('\\n')\n",
    "\n",
    "w = Liketable(token=yandex_token, language='en')"
   ]
  },
  {
   "cell_type": "code",
   "execution_count": 4,
   "id": "4ee7e94d",
   "metadata": {},
   "outputs": [],
   "source": [
    "table_data = source.bulk_read(no_metadata=True)\n",
    "\n",
    "old_data = deepcopy(table_data)"
   ]
  },
  {
   "cell_type": "code",
   "execution_count": 5,
   "id": "8ca27bf7",
   "metadata": {},
   "outputs": [
    {
     "name": "stderr",
     "output_type": "stream",
     "text": [
      "2025-07-14 09:30:23,115 - root - INFO - API working...\n",
      "2025-07-14 09:30:25,341 - root - INFO - Online Likes: artists 103 albums 4 tracks 207\n"
     ]
    }
   ],
   "source": [
    "online_data = w.get_online_data()"
   ]
  },
  {
   "cell_type": "code",
   "execution_count": 6,
   "id": "108a6a64",
   "metadata": {},
   "outputs": [
    {
     "name": "stderr",
     "output_type": "stream",
     "text": [
      "2025-07-14 09:30:25,413 - root - INFO - Likes unset in table from online: 0\n",
      "2025-07-14 09:30:25,426 - root - INFO - New likes add/set in table: 1\n"
     ]
    },
    {
     "name": "stdout",
     "output_type": "stream",
     "text": [
      "Imported likes: unset: 0, set: 1, new: 0\n"
     ]
    }
   ],
   "source": [
    "info = w.import_changes(online_data, table_data)\n",
    "\n",
    "print('Imported likes: ' + ', '.join('%s: %d' % kv for kv in info.items()))"
   ]
  },
  {
   "cell_type": "code",
   "execution_count": 7,
   "id": "b0bc6177",
   "metadata": {},
   "outputs": [
    {
     "name": "stderr",
     "output_type": "stream",
     "text": [
      "2025-07-14 09:30:25,511 - root - INFO - API to-do:\n",
      "2025-07-14 09:30:25,511 - root - INFO - \tRemove like: artists 0 albums 0 tracks 0\n",
      "2025-07-14 09:30:25,512 - root - INFO - \tAdd like:    artists 0 albums 0 tracks 0\n"
     ]
    },
    {
     "name": "stdout",
     "output_type": "stream",
     "text": [
      "Uploaded likes: set: 0, unset: 0\n"
     ]
    }
   ],
   "source": [
    "info = w.upload_changed_likes(online_data, table_data)\n",
    "\n",
    "print('Uploaded likes: ' + ', '.join('%s: %d' % kv for kv in info.items()))"
   ]
  },
  {
   "cell_type": "code",
   "execution_count": 8,
   "id": "2e7273eb",
   "metadata": {},
   "outputs": [
    {
     "name": "stdout",
     "output_type": "stream",
     "text": [
      "Google sheets data updated\n"
     ]
    }
   ],
   "source": [
    "if old_data:\n",
    "    source.bulk_update(table_data, cached_old_data=old_data)\n",
    "    print('Google sheets data updated')"
   ]
  },
  {
   "cell_type": "code",
   "execution_count": 9,
   "id": "d4d90e82",
   "metadata": {},
   "outputs": [],
   "source": [
    "if not old_data:\n",
    "    table_data = TableHelper.sort(table_data)\n",
    "    source.bulk_write(table_data)\n",
    "    old_data = table_data\n",
    "\n",
    "    print('Google sheets data was re/created with all current likes.')"
   ]
  }
 ],
 "metadata": {
  "kernelspec": {
   "display_name": "poetry-ymusic_liketable",
   "language": "python",
   "name": "poetry-ymusic_liketable"
  },
  "language_info": {
   "codemirror_mode": {
    "name": "ipython",
    "version": 3
   },
   "file_extension": ".py",
   "mimetype": "text/x-python",
   "name": "python",
   "nbconvert_exporter": "python",
   "pygments_lexer": "ipython3",
   "version": "3.13.5"
  }
 },
 "nbformat": 4,
 "nbformat_minor": 5
}
