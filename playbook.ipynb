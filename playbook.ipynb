{
 "cells": [
  {
   "cell_type": "code",
   "execution_count": 1,
   "id": "01d12eaa",
   "metadata": {},
   "outputs": [],
   "source": [
    "import main\n"
   ]
  },
  {
   "cell_type": "code",
   "execution_count": 2,
   "id": "d0c56dff",
   "metadata": {},
   "outputs": [],
   "source": [
    "from main import client, get_online_data, load_changes, update_changes, dump_changes, set_likes_changes"
   ]
  },
  {
   "cell_type": "code",
   "execution_count": 3,
   "id": "e434810c",
   "metadata": {},
   "outputs": [],
   "source": [
    "# Update changes file with todo information (if needed)\n",
    "try:\n",
    "    changes = load_changes()\n",
    "except FileNotFoundError:\n",
    "    print(\"File not found, starting with empty changes list.\")\n",
    "    changes = []"
   ]
  },
  {
   "cell_type": "code",
   "execution_count": 4,
   "id": "81910fef",
   "metadata": {},
   "outputs": [
    {
     "name": "stdout",
     "output_type": "stream",
     "text": [
      "Number of liked tracks: 2527\n",
      "Number of liked albums: 31\n",
      "Number of liked artists: 222\n"
     ]
    }
   ],
   "source": [
    "online_data = get_online_data()"
   ]
  },
  {
   "cell_type": "code",
   "execution_count": 5,
   "id": "c7f27f5f",
   "metadata": {},
   "outputs": [
    {
     "name": "stdout",
     "output_type": "stream",
     "text": [
      "New tracks: 0\n",
      "Need extra information for 31 albums\n"
     ]
    }
   ],
   "source": [
    "changes = update_changes(online_data, changes)"
   ]
  },
  {
   "cell_type": "code",
   "execution_count": 6,
   "id": "8c2675f2",
   "metadata": {},
   "outputs": [],
   "source": [
    "dump_changes(changes)"
   ]
  },
  {
   "cell_type": "code",
   "execution_count": 7,
   "id": "5cfe39fc",
   "metadata": {},
   "outputs": [],
   "source": [
    "#set_like_changes(online_data, changes)"
   ]
  },
  {
   "cell_type": "code",
   "execution_count": 8,
   "id": "339c8a53",
   "metadata": {},
   "outputs": [
    {
     "name": "stdout",
     "output_type": "stream",
     "text": [
      "{'artist_id': '41098', 'album_id': '4474330', 'track_id': '35757191', 'timestamp': '2024-10-06T23:44:48+00:00', 'like_on': True, 'artist': 'Мумий Тролль', 'genres': '', 'album': 'Малыш', 'track': 'Малыш', 'year': '', 'genre': 'rusrock'}\n"
     ]
    }
   ],
   "source": [
    "print(next((c for c in changes if c.get('track_id') and not c.get('year')), None))"
   ]
  },
  {
   "cell_type": "code",
   "execution_count": 9,
   "id": "1025fcbd",
   "metadata": {},
   "outputs": [
    {
     "data": {
      "text/plain": [
       "[{'id': '35757191', 'title': 'Малыш', 'available': True, 'artists': [{'id': 41098, 'error': None, 'reason': None, 'name': 'Мумий Тролль', 'cover': {'type': 'from-artist-photos', 'uri': 'avatars.yandex.net/get-music-content/2806365/fffb6dd8.p.41098/%%', 'items_uri': None, 'dir': None, 'version': None, 'custom': None, 'is_custom': None, 'copyright_name': None, 'copyright_cline': None, 'prefix': 'fffb6dd8.p.41098/', 'error': None}, 'various': False, 'composer': False, 'genres': [], 'og_image': None, 'op_image': None, 'no_pictures_from_search': None, 'counts': None, 'available': True, 'ratings': None, 'links': [], 'tickets_available': None, 'likes_count': None, 'popular_tracks': [], 'regions': None, 'decomposed': None, 'full_names': None, 'hand_made_description': None, 'description': None, 'countries': None, 'en_wikipedia_link': None, 'db_aliases': None, 'aliases': None, 'init_date': None, 'end_date': None, 'ya_money_id': None}], 'albums': [{'id': 4474330, 'error': None, 'title': 'Малыш', 'track_count': 1, 'artists': [{'id': 41098, 'error': None, 'reason': None, 'name': 'Мумий Тролль', 'cover': {'type': 'from-artist-photos', 'uri': 'avatars.yandex.net/get-music-content/2806365/fffb6dd8.p.41098/%%', 'items_uri': None, 'dir': None, 'version': None, 'custom': None, 'is_custom': None, 'copyright_name': None, 'copyright_cline': None, 'prefix': 'fffb6dd8.p.41098/', 'error': None}, 'various': False, 'composer': False, 'genres': [], 'og_image': None, 'op_image': None, 'no_pictures_from_search': None, 'counts': None, 'available': True, 'ratings': None, 'links': [], 'tickets_available': None, 'likes_count': None, 'popular_tracks': [], 'regions': None, 'decomposed': None, 'full_names': None, 'hand_made_description': None, 'description': None, 'countries': None, 'en_wikipedia_link': None, 'db_aliases': None, 'aliases': None, 'init_date': None, 'end_date': None, 'ya_money_id': None}], 'labels': [], 'available': True, 'available_for_premium_users': True, 'version': None, 'cover_uri': 'avatars.yandex.net/get-music-content/1781407/9afd31b2.a.4474330-1/%%', 'content_warning': None, 'original_release_year': None, 'genre': 'rusrock', 'text_color': None, 'short_description': None, 'description': None, 'is_premiere': None, 'is_banner': None, 'meta_type': 'music', 'storage_dir': None, 'og_image': 'avatars.yandex.net/get-music-content/1781407/9afd31b2.a.4474330-1/%%', 'buy': None, 'recent': False, 'very_important': False, 'available_for_mobile': True, 'available_partially': False, 'bests': [], 'duplicates': [], 'prerolls': None, 'volumes': None, 'year': None, 'release_date': None, 'type': 'single', 'track_position': {'volume': 1, 'index': 1}, 'regions': None, 'available_as_rbt': None, 'lyrics_available': None, 'remember_position': None, 'albums': [], 'duration_ms': None, 'explicit': None, 'start_date': None, 'likes_count': 2712, 'deprecation': None, 'available_regions': None, 'available_for_options': ['bookmate']}], 'available_for_premium_users': True, 'lyrics_available': True, 'poetry_lover_matches': [], 'best': None, 'real_id': '35757191', 'og_image': 'avatars.yandex.net/get-music-content/1781407/9afd31b2.a.4474330-1/%%', 'type': 'music', 'cover_uri': 'avatars.yandex.net/get-music-content/1781407/9afd31b2.a.4474330-1/%%', 'major': {'id': 167, 'name': 'LAGUNA'}, 'duration_ms': 212030, 'storage_dir': '51327_109b74ca.36526310.1.609676', 'file_size': 0, 'substituted': None, 'matched_track': None, 'normalization': None, 'error': None, 'can_publish': None, 'state': None, 'desired_visibility': None, 'filename': None, 'user_info': None, 'meta_data': None, 'regions': None, 'available_as_rbt': None, 'content_warning': None, 'explicit': None, 'preview_duration_ms': 30000, 'available_full_without_permission': False, 'version': None, 'remember_position': False, 'background_video_uri': None, 'short_description': None, 'is_suitable_for_children': None, 'track_source': 'OWN', 'available_for_options': ['bookmate'], 'r128': {'i': -15.0, 'tp': -0.83}, 'lyrics_info': {'has_available_sync_lyrics': False, 'has_available_text_lyrics': False}, 'track_sharing_flag': 'COVER_ONLY', 'download_info': None}]"
      ]
     },
     "execution_count": 9,
     "metadata": {},
     "output_type": "execute_result"
    }
   ],
   "source": [
    "client.tracks(track_ids=35757191)"
   ]
  }
 ],
 "metadata": {
  "kernelspec": {
   "display_name": "poetry-ymusic-cleanup",
   "language": "python",
   "name": "poetry-ymusic-cleanup"
  },
  "language_info": {
   "codemirror_mode": {
    "name": "ipython",
    "version": 3
   },
   "file_extension": ".py",
   "mimetype": "text/x-python",
   "name": "python",
   "nbconvert_exporter": "python",
   "pygments_lexer": "ipython3",
   "version": "3.13.5"
  }
 },
 "nbformat": 4,
 "nbformat_minor": 5
}
