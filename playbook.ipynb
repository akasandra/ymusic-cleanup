{
 "cells": [
  {
   "cell_type": "code",
   "execution_count": 1,
   "id": "01d12eaa",
   "metadata": {},
   "outputs": [
    {
     "name": "stdout",
     "output_type": "stream",
     "text": [
      "Session OK\n"
     ]
    }
   ],
   "source": [
    "import main\n"
   ]
  },
  {
   "cell_type": "code",
   "execution_count": 2,
   "id": "d0c56dff",
   "metadata": {},
   "outputs": [],
   "source": [
    "from main import client, get_online_data, load_changes, dump_changes, apply_changes"
   ]
  },
  {
   "cell_type": "code",
   "execution_count": 3,
   "id": "0f81140e",
   "metadata": {},
   "outputs": [
    {
     "data": {
      "text/plain": [
       "'en'"
      ]
     },
     "execution_count": 3,
     "metadata": {},
     "output_type": "execute_result"
    }
   ],
   "source": [
    "client.language = 'en'\n",
    "client.language"
   ]
  },
  {
   "cell_type": "code",
   "execution_count": 4,
   "id": "e434810c",
   "metadata": {},
   "outputs": [
    {
     "name": "stdout",
     "output_type": "stream",
     "text": [
      "File not found, starting with empty changes list.\n"
     ]
    }
   ],
   "source": [
    "# Update changes file with todo information (if needed)\n",
    "try:\n",
    "    changes = load_changes('./todo.xlsx')\n",
    "except FileNotFoundError:\n",
    "    print(\"File not found, starting with empty changes list.\")\n",
    "    changes = []"
   ]
  },
  {
   "cell_type": "code",
   "execution_count": 5,
   "id": "81910fef",
   "metadata": {},
   "outputs": [
    {
     "name": "stdout",
     "output_type": "stream",
     "text": [
      "Number of liked tracks: 2527\n",
      "Number of liked albums: 31\n",
      "Number of liked artists: 222\n"
     ]
    }
   ],
   "source": [
    "online_data = get_online_data()"
   ]
  },
  {
   "cell_type": "code",
   "execution_count": 6,
   "id": "c7f27f5f",
   "metadata": {},
   "outputs": [],
   "source": [
    "dump_changes(online_data, changes)"
   ]
  },
  {
   "cell_type": "code",
   "execution_count": 7,
   "id": "daa739dd",
   "metadata": {},
   "outputs": [
    {
     "name": "stdout",
     "output_type": "stream",
     "text": [
      "1990\n",
      "1983\n"
     ]
    }
   ],
   "source": [
    "print(online_data.get('albums')[0].album.release_date[:4])\n",
    "print(online_data.get('albums')[0].album.year)"
   ]
  },
  {
   "cell_type": "code",
   "execution_count": 8,
   "id": "3866572b",
   "metadata": {},
   "outputs": [
    {
     "data": {
      "text/plain": [
       "{'id': '646106', 'error': None, 'reason': None, 'name': 'Женя Любич', 'cover': {'type': 'from-artist-photos', 'uri': 'avatars.yandex.net/get-music-content/9837803/bfc53a51.p.646106/%%', 'items_uri': None, 'dir': None, 'version': None, 'custom': None, 'is_custom': None, 'copyright_name': None, 'copyright_cline': None, 'prefix': 'bfc53a51.p.646106/', 'error': None}, 'various': False, 'composer': False, 'genres': ['local-indie'], 'og_image': 'avatars.yandex.net/get-music-content/9837803/bfc53a51.p.646106/%%', 'op_image': None, 'no_pictures_from_search': None, 'counts': {'tracks': 122, 'direct_albums': 43, 'also_albums': 16, 'also_tracks': 19}, 'available': True, 'ratings': {'month': 2316, 'week': 2281, 'day': 2035}, 'links': [{'title': 'jenialubich.com', 'href': 'http://www.jenialubich.com/', 'type': 'official', 'social_network': None}, {'title': 'Jenia_Lubich', 'href': 'https://twitter.com/Jenia_Lubich', 'type': 'social', 'social_network': 'twitter'}, {'title': 'jenia_lubich', 'href': 'https://t.me/jenia_lubich', 'type': 'social', 'social_network': 'telegram'}, {'title': 'jenialubich', 'href': 'https://vk.com/jenialubich', 'type': 'social', 'social_network': 'vk'}, {'title': 'user/JeniaLubich', 'href': 'http://www.youtube.com/user/JeniaLubich', 'type': 'social', 'social_network': 'youtube'}], 'tickets_available': True, 'likes_count': None, 'popular_tracks': [], 'regions': None, 'decomposed': None, 'full_names': None, 'hand_made_description': None, 'description': None, 'countries': None, 'en_wikipedia_link': None, 'db_aliases': None, 'aliases': None, 'init_date': None, 'end_date': None, 'ya_money_id': None}"
      ]
     },
     "execution_count": 8,
     "metadata": {},
     "output_type": "execute_result"
    }
   ],
   "source": [
    "online_data.get('artists')[0].artist"
   ]
  }
 ],
 "metadata": {
  "kernelspec": {
   "display_name": "poetry-ymusic-cleanup",
   "language": "python",
   "name": "poetry-ymusic-cleanup"
  },
  "language_info": {
   "codemirror_mode": {
    "name": "ipython",
    "version": 3
   },
   "file_extension": ".py",
   "mimetype": "text/x-python",
   "name": "python",
   "nbconvert_exporter": "python",
   "pygments_lexer": "ipython3",
   "version": "3.13.5"
  }
 },
 "nbformat": 4,
 "nbformat_minor": 5
}
