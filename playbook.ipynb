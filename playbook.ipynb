{
 "cells": [
  {
   "cell_type": "code",
   "execution_count": 1,
   "id": "01d12eaa",
   "metadata": {},
   "outputs": [
    {
     "name": "stdout",
     "output_type": "stream",
     "text": [
      "Session OK\n"
     ]
    }
   ],
   "source": [
    "import main\n"
   ]
  },
  {
   "cell_type": "code",
   "execution_count": 2,
   "id": "d0c56dff",
   "metadata": {},
   "outputs": [],
   "source": [
    "from main import client, get_online_data, load_changes, dump_changes, apply_changes"
   ]
  },
  {
   "cell_type": "code",
   "execution_count": 3,
   "id": "e434810c",
   "metadata": {},
   "outputs": [
    {
     "name": "stdout",
     "output_type": "stream",
     "text": [
      "File not found, starting with empty changes list.\n"
     ]
    }
   ],
   "source": [
    "# Update changes file with todo information (if needed)\n",
    "try:\n",
    "    changes = load_changes()\n",
    "except FileNotFoundError:\n",
    "    print(\"File not found, starting with empty changes list.\")\n",
    "    changes = []"
   ]
  },
  {
   "cell_type": "code",
   "execution_count": 4,
   "id": "81910fef",
   "metadata": {},
   "outputs": [
    {
     "name": "stdout",
     "output_type": "stream",
     "text": [
      "Number of liked tracks: 2527\n",
      "Number of liked albums: 31\n",
      "Number of liked artists: 222\n"
     ]
    }
   ],
   "source": [
    "online_data = get_online_data()"
   ]
  },
  {
   "cell_type": "code",
   "execution_count": 5,
   "id": "c7f27f5f",
   "metadata": {},
   "outputs": [
    {
     "name": "stdout",
     "output_type": "stream",
     "text": [
      "New tracks: 2527\n",
      "Need extra information for 2527 tracks\n"
     ]
    }
   ],
   "source": [
    "dump_changes(online_data, changes)"
   ]
  },
  {
   "cell_type": "code",
   "execution_count": 6,
   "id": "4e9a281e",
   "metadata": {},
   "outputs": [
    {
     "data": {
      "text/plain": [
       "{'type': 'artist', 'id': None, 'timestamp': '2025-06-27T15:41:33+00:00', 'album': None, 'artist': {'id': '646106', 'error': None, 'reason': None, 'name': 'Женя Любич', 'cover': {'type': 'from-artist-photos', 'uri': 'avatars.yandex.net/get-music-content/9837803/bfc53a51.p.646106/%%', 'items_uri': None, 'dir': None, 'version': None, 'custom': None, 'is_custom': None, 'copyright_name': None, 'copyright_cline': None, 'prefix': 'bfc53a51.p.646106/', 'error': None}, 'various': False, 'composer': False, 'genres': ['local-indie'], 'og_image': 'avatars.yandex.net/get-music-content/9837803/bfc53a51.p.646106/%%', 'op_image': None, 'no_pictures_from_search': None, 'counts': {'tracks': 122, 'direct_albums': 43, 'also_albums': 16, 'also_tracks': 19}, 'available': True, 'ratings': {'month': 2316, 'week': 2281, 'day': 2035}, 'links': [{'title': 'jenialubich.com', 'href': 'http://www.jenialubich.com/', 'type': 'official', 'social_network': None}, {'title': 'Jenia_Lubich', 'href': 'https://twitter.com/Jenia_Lubich', 'type': 'social', 'social_network': 'twitter'}, {'title': 'jenia_lubich', 'href': 'https://t.me/jenia_lubich', 'type': 'social', 'social_network': 'telegram'}, {'title': 'jenialubich', 'href': 'https://vk.com/jenialubich', 'type': 'social', 'social_network': 'vk'}, {'title': 'user/JeniaLubich', 'href': 'http://www.youtube.com/user/JeniaLubich', 'type': 'social', 'social_network': 'youtube'}], 'tickets_available': True, 'likes_count': None, 'popular_tracks': [], 'regions': None, 'decomposed': None, 'full_names': None, 'hand_made_description': None, 'description': None, 'countries': None, 'en_wikipedia_link': None, 'db_aliases': None, 'aliases': None, 'init_date': None, 'end_date': None, 'ya_money_id': None}, 'playlist': None, 'short_description': None, 'description': None, 'is_premiere': None, 'is_banner': None}"
      ]
     },
     "execution_count": 6,
     "metadata": {},
     "output_type": "execute_result"
    }
   ],
   "source": [
    "online_data['artists'][0]"
   ]
  }
 ],
 "metadata": {
  "kernelspec": {
   "display_name": "poetry-ymusic-cleanup",
   "language": "python",
   "name": "poetry-ymusic-cleanup"
  },
  "language_info": {
   "codemirror_mode": {
    "name": "ipython",
    "version": 3
   },
   "file_extension": ".py",
   "mimetype": "text/x-python",
   "name": "python",
   "nbconvert_exporter": "python",
   "pygments_lexer": "ipython3",
   "version": "3.13.5"
  }
 },
 "nbformat": 4,
 "nbformat_minor": 5
}
