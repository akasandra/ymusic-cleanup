{
 "cells": [
  {
   "cell_type": "code",
   "execution_count": null,
   "id": "d0c56dff",
   "metadata": {},
   "outputs": [],
   "source": [
    "import logging\n",
    "from copy import deepcopy\n",
    "from ymusic_liketable import Liketable, TableHelper, XlsxSource\n",
    "\n",
    "logging.basicConfig(\n",
    "    level=logging.INFO,\n",
    "    format='%(asctime)s - %(name)s - %(levelname)s - %(message)s'\n",
    ")"
   ]
  },
  {
   "cell_type": "code",
   "execution_count": 2,
   "id": "e434810c",
   "metadata": {},
   "outputs": [],
   "source": [
    "source = XlsxSource(filename='./changes.xlsx')\n",
    "\n",
    "w = Liketable(token=open('token.txt').read().strip('\\n'), language='en')"
   ]
  },
  {
   "cell_type": "code",
   "execution_count": 3,
   "id": "171d872f",
   "metadata": {},
   "outputs": [],
   "source": [
    "table_data = source.bulk_read()\n",
    "\n",
    "old_data = deepcopy(table_data)"
   ]
  },
  {
   "cell_type": "code",
   "execution_count": 4,
   "id": "81910fef",
   "metadata": {},
   "outputs": [
    {
     "name": "stderr",
     "output_type": "stream",
     "text": [
      "2025-07-14 09:31:02,715 - root - INFO - API working...\n",
      "2025-07-14 09:31:04,873 - root - INFO - Online Likes: artists 103 albums 4 tracks 207\n"
     ]
    }
   ],
   "source": [
    "online_data = w.get_online_data()"
   ]
  },
  {
   "cell_type": "code",
   "execution_count": 5,
   "id": "c7f27f5f",
   "metadata": {},
   "outputs": [
    {
     "name": "stderr",
     "output_type": "stream",
     "text": [
      "2025-07-14 09:31:04,902 - root - INFO - Likes unset in table from online: 0\n",
      "2025-07-14 09:31:04,934 - root - INFO - New likes add/set in table: 1\n"
     ]
    },
    {
     "name": "stdout",
     "output_type": "stream",
     "text": [
      "Imported likes: unset: 0, set: 1, new: 0\n"
     ]
    }
   ],
   "source": [
    "info = w.import_changes(online_data, table_data)\n",
    "\n",
    "print('Imported likes: ' + ', '.join('%s: %d' % kv for kv in info.items()))"
   ]
  },
  {
   "cell_type": "code",
   "execution_count": 6,
   "id": "8c2675f2",
   "metadata": {},
   "outputs": [
    {
     "name": "stderr",
     "output_type": "stream",
     "text": [
      "2025-07-14 09:31:04,980 - root - INFO - API to-do:\n",
      "2025-07-14 09:31:04,983 - root - INFO - \tRemove like: artists 0 albums 0 tracks 0\n",
      "2025-07-14 09:31:04,990 - root - INFO - \tAdd like:    artists 0 albums 0 tracks 0\n"
     ]
    },
    {
     "name": "stdout",
     "output_type": "stream",
     "text": [
      "Uploaded likes: set: 0, unset: 0\n"
     ]
    }
   ],
   "source": [
    "info = w.upload_changed_likes(online_data, table_data)\n",
    "\n",
    "print('Uploaded likes: ' + ', '.join('%s: %d' % kv for kv in info.items()))"
   ]
  },
  {
   "cell_type": "code",
   "execution_count": 7,
   "id": "5cfe39fc",
   "metadata": {},
   "outputs": [
    {
     "name": "stdout",
     "output_type": "stream",
     "text": [
      "XLSX file updated\n"
     ]
    }
   ],
   "source": [
    "if old_data:\n",
    "    source.bulk_update(table_data, cached_old_data=old_data)\n",
    "    print('XLSX file updated')"
   ]
  },
  {
   "cell_type": "code",
   "execution_count": 8,
   "id": "ac100746",
   "metadata": {},
   "outputs": [],
   "source": [
    "if not old_data:\n",
    "    table_data = TableHelper.sort(table_data)\n",
    "    source.bulk_write(table_data)\n",
    "    old_data = table_data\n",
    "\n",
    "    print('XLSX file was re/created with all current likes.')"
   ]
  }
 ],
 "metadata": {
  "kernelspec": {
   "display_name": "poetry-ymusic_liketable",
   "language": "python",
   "name": "poetry-ymusic_liketable"
  },
  "language_info": {
   "codemirror_mode": {
    "name": "ipython",
    "version": 3
   },
   "file_extension": ".py",
   "mimetype": "text/x-python",
   "name": "python",
   "nbconvert_exporter": "python",
   "pygments_lexer": "ipython3",
   "version": "3.13.5"
  }
 },
 "nbformat": 4,
 "nbformat_minor": 5
}
