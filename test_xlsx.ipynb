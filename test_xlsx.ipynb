{
 "cells": [
  {
   "cell_type": "code",
   "execution_count": 1,
   "id": "d0c56dff",
   "metadata": {},
   "outputs": [],
   "source": [
    "import logging\n",
    "from copy import deepcopy\n",
    "from liketable import Liketable\n",
    "from table_helper import TableHelper\n",
    "from source_xlsx import XlsxSource\n",
    "\n",
    "logging.basicConfig(\n",
    "    level=logging.INFO,\n",
    "    format='%(asctime)s - %(name)s - %(levelname)s - %(message)s'\n",
    ")"
   ]
  },
  {
   "cell_type": "code",
   "execution_count": 2,
   "id": "e434810c",
   "metadata": {},
   "outputs": [],
   "source": [
    "source = XlsxSource(filename='./changes.xlsx')\n",
    "\n",
    "w = Liketable(token=open('token.txt').read().strip('\\n'), language='en')"
   ]
  },
  {
   "cell_type": "code",
   "execution_count": 3,
   "id": "171d872f",
   "metadata": {},
   "outputs": [],
   "source": [
    "table_data = source.bulk_read()\n",
    "\n",
    "old_data = deepcopy(table_data)"
   ]
  },
  {
   "cell_type": "code",
   "execution_count": 4,
   "id": "81910fef",
   "metadata": {},
   "outputs": [
    {
     "name": "stderr",
     "output_type": "stream",
     "text": [
      "2025-07-14 07:27:17,938 - root - INFO - API working...\n",
      "2025-07-14 07:27:18,506 - root - INFO - Online Likes: artists 103 albums 4 tracks 206\n"
     ]
    }
   ],
   "source": [
    "online_data = w.get_online_data()"
   ]
  },
  {
   "cell_type": "code",
   "execution_count": 5,
   "id": "c7f27f5f",
   "metadata": {},
   "outputs": [
    {
     "name": "stderr",
     "output_type": "stream",
     "text": [
      "2025-07-14 07:27:18,573 - root - INFO - New likes add/set in table:\n",
      "2025-07-14 07:27:18,574 - root - INFO - \tartists 0 albums 0 tracks 0\n",
      "2025-07-14 07:27:18,576 - root - INFO - Likes unset in table from online: 0\n",
      "2025-07-14 07:27:18,577 - root - INFO - Fetching metadata for new items\n",
      "2025-07-14 07:27:20,151 - root - INFO - New metadata: artists 184 albums 173 tracks 206\n"
     ]
    }
   ],
   "source": [
    "table_data = w.get_updated_table(online_data, table_data)"
   ]
  },
  {
   "cell_type": "code",
   "execution_count": 6,
   "id": "8c2675f2",
   "metadata": {},
   "outputs": [
    {
     "name": "stderr",
     "output_type": "stream",
     "text": [
      "2025-07-14 07:27:20,176 - root - INFO - API to-do:\n",
      "2025-07-14 07:27:20,182 - root - INFO - \tRemove like: artists 0 albums 0 tracks 0\n",
      "2025-07-14 07:27:20,185 - root - INFO - \tAdd like:    artists 0 albums 0 tracks 0\n",
      "2025-07-14 07:27:20,195 - root - INFO - API working...\n",
      "2025-07-14 07:27:20,197 - root - INFO - Table status: like 313 not 0\n",
      "2025-07-14 07:27:20,198 - root - INFO - This indicates no error!\n"
     ]
    }
   ],
   "source": [
    "w.set_ymusic_likes(online_data, table_data)"
   ]
  },
  {
   "cell_type": "code",
   "execution_count": 7,
   "id": "5cfe39fc",
   "metadata": {},
   "outputs": [],
   "source": [
    "if old_data:\n",
    "    source.bulk_update(table_data, cached_old_data=old_data)\n",
    "    print('XLSX file updated')"
   ]
  },
  {
   "cell_type": "code",
   "execution_count": 8,
   "id": "ac100746",
   "metadata": {},
   "outputs": [
    {
     "name": "stdout",
     "output_type": "stream",
     "text": [
      "XLSX file was re/created with all current likes.\n"
     ]
    }
   ],
   "source": [
    "if not old_data:\n",
    "    table_data = TableHelper.sort(table_data)\n",
    "    source.bulk_write(table_data)\n",
    "    old_data = table_data\n",
    "\n",
    "    print('XLSX file was re/created with all current likes.')"
   ]
  }
 ],
 "metadata": {
  "kernelspec": {
   "display_name": "poetry-ymusic_liketable",
   "language": "python",
   "name": "poetry-ymusic_liketable"
  },
  "language_info": {
   "codemirror_mode": {
    "name": "ipython",
    "version": 3
   },
   "file_extension": ".py",
   "mimetype": "text/x-python",
   "name": "python",
   "nbconvert_exporter": "python",
   "pygments_lexer": "ipython3",
   "version": "3.13.5"
  }
 },
 "nbformat": 4,
 "nbformat_minor": 5
}
