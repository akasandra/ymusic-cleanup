{
 "cells": [
  {
   "cell_type": "code",
   "execution_count": 1,
   "id": "d0c56dff",
   "metadata": {},
   "outputs": [],
   "source": [
    "import logging\n",
    "from copy import deepcopy\n",
    "from ymusic_liketable import Worker\n",
    "from table_helper import TableHelper\n",
    "from driver_xlsx import XlsxFileDriver\n",
    "\n",
    "logging.basicConfig(\n",
    "    level=logging.INFO,\n",
    "    format='%(asctime)s - %(name)s - %(levelname)s - %(message)s'\n",
    ")"
   ]
  },
  {
   "cell_type": "code",
   "execution_count": 2,
   "id": "e434810c",
   "metadata": {},
   "outputs": [],
   "source": [
    "table_driver = XlsxFileDriver(filename='./changes.xlsx')\n",
    "\n",
    "w = Worker(token=open('token.txt').read().strip('\\n'), language='en')"
   ]
  },
  {
   "cell_type": "code",
   "execution_count": 3,
   "id": "171d872f",
   "metadata": {},
   "outputs": [],
   "source": [
    "table_data = table_driver.bulk_read()\n",
    "\n",
    "old_data = deepcopy(table_data)"
   ]
  },
  {
   "cell_type": "code",
   "execution_count": 4,
   "id": "81910fef",
   "metadata": {},
   "outputs": [
    {
     "name": "stderr",
     "output_type": "stream",
     "text": [
      "2025-07-14 05:54:23,709 - root - INFO - API working...\n",
      "2025-07-14 05:54:24,222 - root - INFO - Online Likes: artists 103 albums 5 tracks 211\n"
     ]
    }
   ],
   "source": [
    "online_data = w.get_online_data()"
   ]
  },
  {
   "cell_type": "code",
   "execution_count": 5,
   "id": "c7f27f5f",
   "metadata": {},
   "outputs": [
    {
     "name": "stderr",
     "output_type": "stream",
     "text": [
      "2025-07-14 05:54:24,263 - root - INFO - New likes add/set in table:\n",
      "2025-07-14 05:54:24,272 - root - INFO - \tartists 0 albums 0 tracks 0\n",
      "2025-07-14 05:54:24,288 - root - INFO - Likes unset in table from online: 0\n",
      "2025-07-14 05:54:24,292 - root - INFO - Fetching metadata for new items\n",
      "2025-07-14 05:54:25,061 - root - INFO - New metadata: artists 187 albums 176 tracks 211\n"
     ]
    }
   ],
   "source": [
    "table_data = w.get_updated_table(online_data, table_data)"
   ]
  },
  {
   "cell_type": "code",
   "execution_count": 6,
   "id": "8c2675f2",
   "metadata": {},
   "outputs": [
    {
     "name": "stderr",
     "output_type": "stream",
     "text": [
      "2025-07-14 05:54:25,119 - root - INFO - API to-do:\n",
      "2025-07-14 05:54:25,120 - root - INFO - \tRemove like: artists 0 albums 0 tracks 0\n",
      "2025-07-14 05:54:25,130 - root - INFO - \tAdd like:    artists 0 albums 0 tracks 0\n",
      "2025-07-14 05:54:25,131 - root - INFO - API working...\n",
      "2025-07-14 05:54:25,138 - root - INFO - Table status: like 319 not 0\n",
      "2025-07-14 05:54:25,151 - root - INFO - This indicates no error!\n"
     ]
    }
   ],
   "source": [
    "w.set_ymusic_likes(online_data, table_data)"
   ]
  },
  {
   "cell_type": "code",
   "execution_count": 7,
   "id": "5cfe39fc",
   "metadata": {},
   "outputs": [],
   "source": [
    "if old_data:\n",
    "    table_driver.bulk_update(table_data, cached_old_data=old_data)\n",
    "    print('XLSX file updated')"
   ]
  },
  {
   "cell_type": "code",
   "execution_count": 8,
   "id": "ac100746",
   "metadata": {},
   "outputs": [
    {
     "name": "stdout",
     "output_type": "stream",
     "text": [
      "XLSX file was re/created with all current likes.\n"
     ]
    }
   ],
   "source": [
    "# Alternative: re-create file, with sorting\n",
    "if not old_data:\n",
    "    table_data = TableHelper.sort(table_data)\n",
    "    table_driver.bulk_write(table_data)\n",
    "    old_data = table_data\n",
    "\n",
    "    print('XLSX file was re/created with all current likes.')"
   ]
  }
 ],
 "metadata": {
  "kernelspec": {
   "display_name": "poetry-ymusic_liketable",
   "language": "python",
   "name": "poetry-ymusic_liketable"
  },
  "language_info": {
   "codemirror_mode": {
    "name": "ipython",
    "version": 3
   },
   "file_extension": ".py",
   "mimetype": "text/x-python",
   "name": "python",
   "nbconvert_exporter": "python",
   "pygments_lexer": "ipython3",
   "version": "3.13.5"
  }
 },
 "nbformat": 4,
 "nbformat_minor": 5
}
