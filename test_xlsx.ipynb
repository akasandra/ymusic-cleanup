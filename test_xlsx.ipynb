{
 "cells": [
  {
   "cell_type": "code",
   "execution_count": 1,
   "id": "d0c56dff",
   "metadata": {},
   "outputs": [],
   "source": [
    "import logging\n",
    "from copy import deepcopy\n",
    "from ymusic_liketable import Worker\n",
    "from driver_xlsx import XlsxFileDriver\n",
    "\n",
    "logging.basicConfig(\n",
    "    level=logging.WARN,\n",
    "    format='%(asctime)s - %(name)s - %(levelname)s - %(message)s'\n",
    ")"
   ]
  },
  {
   "cell_type": "code",
   "execution_count": 2,
   "id": "e434810c",
   "metadata": {},
   "outputs": [],
   "source": [
    "table_driver = XlsxFileDriver(filename='./changes.xlsx')\n",
    "\n",
    "w = Worker(token=open('token.txt').read().strip('\\n'), language='en')"
   ]
  },
  {
   "cell_type": "code",
   "execution_count": 3,
   "id": "171d872f",
   "metadata": {},
   "outputs": [],
   "source": [
    "try:\n",
    "    table_data = table_driver.bulk_read()\n",
    "except FileNotFoundError:\n",
    "    print(\"File not found, starting with empty table_data list.\")\n",
    "    table_data = []"
   ]
  },
  {
   "cell_type": "code",
   "execution_count": 4,
   "id": "81910fef",
   "metadata": {},
   "outputs": [
    {
     "name": "stdout",
     "output_type": "stream",
     "text": [
      "API working...\n",
      "Online Likes: artists 103 albums 5 tracks 211\n"
     ]
    }
   ],
   "source": [
    "online_data = w.get_online_data()"
   ]
  },
  {
   "cell_type": "code",
   "execution_count": 5,
   "id": "c7f27f5f",
   "metadata": {},
   "outputs": [
    {
     "name": "stdout",
     "output_type": "stream",
     "text": [
      "New likes add/set in table:\n",
      "\tartists 0 albums 0 tracks 1\n",
      "Likes unset in table from online: 0\n",
      "Fetching metadata for new items\n",
      "New metadata: artists 0 albums 0 tracks 0\n"
     ]
    }
   ],
   "source": [
    "old_data = deepcopy(table_data)\n",
    "\n",
    "table_data = w.get_updated_table(online_data, table_data)"
   ]
  },
  {
   "cell_type": "code",
   "execution_count": 6,
   "id": "8c2675f2",
   "metadata": {},
   "outputs": [
    {
     "name": "stdout",
     "output_type": "stream",
     "text": [
      "Summary of likes to change online:\n",
      "\tTotal on  319\n",
      "\tTotal off 2487\n",
      "\tRemove likes: artists 0 albums 0 tracks 0\n",
      "\tAdd likes:    artists 0 albums 0 tracks 0\n",
      "API working...\n",
      "This indicates no error!\n"
     ]
    }
   ],
   "source": [
    "w.set_ymusic_likes(online_data, table_data)"
   ]
  },
  {
   "cell_type": "code",
   "execution_count": 7,
   "id": "5cfe39fc",
   "metadata": {},
   "outputs": [
    {
     "name": "stdout",
     "output_type": "stream",
     "text": [
      "Update row 2807\n",
      "Rows updated: 1\n",
      "Rows added: 0\n",
      "XLSX file saved\n"
     ]
    }
   ],
   "source": [
    "table_driver.bulk_update(table_data, old_changes=old_data)\n",
    "\n",
    "print('XLSX file saved')"
   ]
  },
  {
   "cell_type": "code",
   "execution_count": 8,
   "id": "c3f9ef85",
   "metadata": {},
   "outputs": [
    {
     "data": {
      "text/plain": [
       "{'like_on': False,\n",
       " 'artist_id': None,\n",
       " 'album_id': '31349957',\n",
       " 'track_id': '126282571',\n",
       " 'timestamp': '2025-07-13T21:53:44+00:00',\n",
       " 'artist': 'Музыка для йоги, Meditation, Музыка для сна, Ambient, Музыка для релаксации',\n",
       " 'genres': 'relax, ambientgenre, folk',\n",
       " 'album': 'Расслабляющая музыка для медитации и йоги',\n",
       " 'track': 'Звук внутреннего покоя',\n",
       " 'year': '2024',\n",
       " 'genre': 'ambientgenre',\n",
       " 'time': 1752443624}"
      ]
     },
     "execution_count": 8,
     "metadata": {},
     "output_type": "execute_result"
    }
   ],
   "source": [
    "old_data[-1]"
   ]
  },
  {
   "cell_type": "code",
   "execution_count": 9,
   "id": "056f743d",
   "metadata": {},
   "outputs": [
    {
     "data": {
      "text/plain": [
       "{'like_on': True,\n",
       " 'artist_id': None,\n",
       " 'album_id': '31349957',\n",
       " 'track_id': '126282571',\n",
       " 'timestamp': '2025-07-13T22:07:03+00:00',\n",
       " 'artist': 'Музыка для йоги, Meditation, Музыка для сна, Ambient, Музыка для релаксации',\n",
       " 'genres': 'relax, ambientgenre, folk',\n",
       " 'album': 'Расслабляющая музыка для медитации и йоги',\n",
       " 'track': 'Звук внутреннего покоя',\n",
       " 'year': '2024',\n",
       " 'genre': 'ambientgenre',\n",
       " 'time': 1752443624}"
      ]
     },
     "execution_count": 9,
     "metadata": {},
     "output_type": "execute_result"
    }
   ],
   "source": [
    "table_data[-1]"
   ]
  }
 ],
 "metadata": {
  "kernelspec": {
   "display_name": "poetry-ymusic_liketable",
   "language": "python",
   "name": "poetry-ymusic_liketable"
  },
  "language_info": {
   "codemirror_mode": {
    "name": "ipython",
    "version": 3
   },
   "file_extension": ".py",
   "mimetype": "text/x-python",
   "name": "python",
   "nbconvert_exporter": "python",
   "pygments_lexer": "ipython3",
   "version": "3.13.5"
  }
 },
 "nbformat": 4,
 "nbformat_minor": 5
}
