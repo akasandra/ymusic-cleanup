{
 "cells": [
  {
   "cell_type": "code",
   "execution_count": 1,
   "id": "d0c56dff",
   "metadata": {},
   "outputs": [],
   "source": [
    "import logging\n",
    "from ymusic_liketable import Worker\n",
    "from driver_xlsx import XlsxFileDriver\n",
    "\n",
    "logging.basicConfig(\n",
    "    level=logging.WARN,\n",
    "    format='%(asctime)s - %(name)s - %(levelname)s - %(message)s'\n",
    ")"
   ]
  },
  {
   "cell_type": "code",
   "execution_count": 2,
   "id": "e434810c",
   "metadata": {},
   "outputs": [],
   "source": [
    "table_driver = XlsxFileDriver(filename='./changes.xlsx')\n",
    "\n",
    "w = Worker(token=open('token.txt').read().strip('\\n'), language='en')"
   ]
  },
  {
   "cell_type": "code",
   "execution_count": 3,
   "id": "171d872f",
   "metadata": {},
   "outputs": [
    {
     "name": "stdout",
     "output_type": "stream",
     "text": [
      "File not found, starting with empty table_data list.\n"
     ]
    }
   ],
   "source": [
    "try:\n",
    "    table_data = table_driver.bulk_read()\n",
    "except FileNotFoundError:\n",
    "    print(\"File not found, starting with empty table_data list.\")\n",
    "    table_data = []"
   ]
  },
  {
   "cell_type": "code",
   "execution_count": 4,
   "id": "81910fef",
   "metadata": {},
   "outputs": [
    {
     "name": "stdout",
     "output_type": "stream",
     "text": [
      "API working...\n",
      "Online Likes: artists 103 albums 4 tracks 223\n"
     ]
    }
   ],
   "source": [
    "online_data = w.get_online_data()"
   ]
  },
  {
   "cell_type": "code",
   "execution_count": 5,
   "id": "c7f27f5f",
   "metadata": {},
   "outputs": [
    {
     "name": "stdout",
     "output_type": "stream",
     "text": [
      "New likes add/set in table:\n",
      "\tartists 0 albums 0 tracks 0\n",
      "Fetching metadata for new items\n",
      "New metadata: artists 194 albums 189 tracks 223\n"
     ]
    }
   ],
   "source": [
    "table_data = w.get_updated_table(online_data, table_data)"
   ]
  },
  {
   "cell_type": "code",
   "execution_count": 6,
   "id": "8c2675f2",
   "metadata": {},
   "outputs": [
    {
     "name": "stdout",
     "output_type": "stream",
     "text": [
      "Summary of likes to change online:\n",
      "\tTotal on  330\n",
      "\tTotal off 0\n",
      "\tRemove likes: artists 0 albums 0 tracks 0\n",
      "\tAdd likes:    artists 0 albums 0 tracks 0\n",
      "API working...\n",
      "This indicates no error!\n"
     ]
    }
   ],
   "source": [
    "w.set_ymusic_likes(online_data, table_data)"
   ]
  },
  {
   "cell_type": "code",
   "execution_count": 7,
   "id": "5cfe39fc",
   "metadata": {},
   "outputs": [
    {
     "name": "stdout",
     "output_type": "stream",
     "text": [
      "XLSX file saved\n"
     ]
    }
   ],
   "source": [
    "table_driver.bulk_write(table_data)\n",
    "\n",
    "print('XLSX file saved')"
   ]
  },
  {
   "cell_type": "code",
   "execution_count": 8,
   "id": "6e6df6c4",
   "metadata": {},
   "outputs": [
    {
     "data": {
      "text/plain": [
       "{'artist_id': '6914440',\n",
       " 'album_id': '15716398',\n",
       " 'track_id': '83449945',\n",
       " 'like_on': True,\n",
       " 'timestamp': '2023-11-18T12:07:01+00:00',\n",
       " 'time': 1700309221,\n",
       " 'artist': 'ANIKV',\n",
       " 'genres': 'ruspop, rusrap, dance',\n",
       " 'year': '2021',\n",
       " 'genre': 'ruspop',\n",
       " 'album': 'о чем мечтать?',\n",
       " 'track': 'о чем мечтать?'}"
      ]
     },
     "execution_count": 8,
     "metadata": {},
     "output_type": "execute_result"
    }
   ],
   "source": [
    "table_data[0]"
   ]
  },
  {
   "cell_type": "code",
   "execution_count": 24,
   "id": "b75f4d33",
   "metadata": {},
   "outputs": [
    {
     "data": {
      "text/plain": [
       "{'like_on': True,\n",
       " 'artist_id': '6914440',\n",
       " 'album_id': '15716398',\n",
       " 'track_id': '83449945',\n",
       " 'timestamp': '2023-11-18T12:07:01+00:00',\n",
       " 'time': 1700309221}"
      ]
     },
     "execution_count": 24,
     "metadata": {},
     "output_type": "execute_result"
    }
   ],
   "source": [
    "from openpyxl import load_workbook, Workbook\n",
    "\n",
    "\n",
    "wb = load_workbook(table_driver.filename, data_only=True)\n",
    "ws = wb.active\n",
    "d = table_driver._bulk_read(ws=ws, min_row=3, max_row=3, column_count=5)\n",
    "\n",
    "next(d)"
   ]
  }
 ],
 "metadata": {
  "kernelspec": {
   "display_name": "poetry-ymusic_liketable",
   "language": "python",
   "name": "poetry-ymusic_liketable"
  },
  "language_info": {
   "codemirror_mode": {
    "name": "ipython",
    "version": 3
   },
   "file_extension": ".py",
   "mimetype": "text/x-python",
   "name": "python",
   "nbconvert_exporter": "python",
   "pygments_lexer": "ipython3",
   "version": "3.13.5"
  }
 },
 "nbformat": 4,
 "nbformat_minor": 5
}
